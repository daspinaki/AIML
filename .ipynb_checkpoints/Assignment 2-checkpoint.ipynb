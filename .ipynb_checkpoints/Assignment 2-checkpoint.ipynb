{
 "cells": [
  {
   "cell_type": "code",
   "execution_count": null,
   "metadata": {},
   "outputs": [],
   "source": [
    "Q1.Answer> Two variables of boolean type are true and false. They are wriiten as \"true\" and \"false\". "
   ]
  },
  {
   "cell_type": "code",
   "execution_count": null,
   "metadata": {},
   "outputs": [],
   "source": [
    "Q2 Answer> Three types of boolean operators are\n",
    "->and\n",
    "->or\n",
    "->not"
   ]
  },
  {
   "cell_type": "code",
   "execution_count": null,
   "metadata": {},
   "outputs": [],
   "source": [
    "Q3 Answer>\n",
    "AND\n",
    "x y x&&y\n",
    "0 0 0\n",
    "0 1 0\n",
    "1 0 0\n",
    "1 1 1\n",
    "OR\n",
    "x y x||y\n",
    "0 0 0\n",
    "0 1 1\n",
    "1 0 1\n",
    "1 1 1\n",
    "NOT\n",
    "x !x\n",
    "0 1 \n",
    "1 0"
   ]
  },
  {
   "cell_type": "code",
   "execution_count": null,
   "metadata": {},
   "outputs": [],
   "source": [
    "Q4 Answer>\n",
    "false\n",
    "false\n",
    "true\n",
    "false\n",
    "false\n",
    "true"
   ]
  },
  {
   "cell_type": "raw",
   "metadata": {},
   "source": [
    "Q5 Answer>\n",
    "Comparision Operators\n",
    "== equal\n",
    "!= not equal\n",
    "> greater than\n",
    "< less than\n",
    ">= greater or equal\n",
    "<= less or equal"
   ]
  },
  {
   "cell_type": "code",
   "execution_count": null,
   "metadata": {},
   "outputs": [],
   "source": [
    "Q6 Answer>\n",
    "Equal to == operator always checks if a condition is true or false and returns boolean.\n",
    "Assignment operator assigns value to the variable\n",
    "a=5 #assignment\n",
    "a == a+1 will return false #equal to operator\n"
   ]
  },
  {
   "cell_type": "code",
   "execution_count": 1,
   "metadata": {},
   "outputs": [
    {
     "name": "stdout",
     "output_type": "stream",
     "text": [
      "ham\n",
      "spam\n",
      "spam\n"
     ]
    }
   ],
   "source": [
    "#Q7 Answer>\n",
    "spam = 0\n",
    "if spam == 10:           #First block\n",
    "    print(\"eggs\")\n",
    "if spam > 5:\n",
    "    print(\"bacon\")       #Second Block\n",
    "else:\n",
    "    print('ham')         #Third Block\n",
    "    print('spam')\n",
    "    print('spam')"
   ]
  },
  {
   "cell_type": "code",
   "execution_count": 2,
   "metadata": {},
   "outputs": [
    {
     "name": "stdout",
     "output_type": "stream",
     "text": [
      "Greeting!\n"
     ]
    }
   ],
   "source": [
    "#Q8 Answer>\n",
    "spam = 0\n",
    "if spam ==1:           \n",
    "    print(\"Hello\")\n",
    "if spam == 2:\n",
    "    print(\"Howdy\")       \n",
    "else:\n",
    "    print('Greeting!')         \n",
    " "
   ]
  },
  {
   "cell_type": "code",
   "execution_count": null,
   "metadata": {},
   "outputs": [],
   "source": [
    "Q9 Answer> If the program is stuck in an endless loop, press CTRL + C"
   ]
  },
  {
   "cell_type": "raw",
   "metadata": {},
   "source": [
    "Q10 Answer>\n",
    "Break statement is used to break from the existing loop \n",
    "wheras continue statement is used to directly go to the next iteration of the loop"
   ]
  },
  {
   "cell_type": "raw",
   "metadata": {},
   "source": [
    "Q11 Answer>\n",
    "range(10) ->gives out range from 0 to 9\n",
    "range(0,10)->similar to range(10)\n",
    "range(0, 10 , 1)->Same as above (here 1 means size of step. In any case step size = 1 by defalut in above cases)"
   ]
  },
  {
   "cell_type": "code",
   "execution_count": 11,
   "metadata": {},
   "outputs": [
    {
     "name": "stdout",
     "output_type": "stream",
     "text": [
      "1 2 3 4 5 6 7 8 9 10 \n",
      "\n",
      "1 2 3 4 5 6 7 8 9 10 "
     ]
    }
   ],
   "source": [
    "#Q12 Answer>\n",
    "for i in range(1,11):\n",
    "        print(i,end = \" \")\n",
    "i = 1\n",
    "print(\"\\n\")\n",
    "while i < 11:\n",
    "    print(i, end= \" \")\n",
    "    i = i+1"
   ]
  },
  {
   "cell_type": "raw",
   "metadata": {},
   "source": [
    "Q13 Answer>\n",
    "import spam as sp\n",
    "sp.bacon()"
   ]
  }
 ],
 "metadata": {
  "kernelspec": {
   "display_name": "Python 3",
   "language": "python",
   "name": "python3"
  },
  "language_info": {
   "codemirror_mode": {
    "name": "ipython",
    "version": 3
   },
   "file_extension": ".py",
   "mimetype": "text/x-python",
   "name": "python",
   "nbconvert_exporter": "python",
   "pygments_lexer": "ipython3",
   "version": "3.8.5"
  }
 },
 "nbformat": 4,
 "nbformat_minor": 4
}
